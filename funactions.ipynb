{
 "cells": [
  {
   "cell_type": "markdown",
   "id": "2ee63b95-9e73-4365-a5c5-da6d77b5075d",
   "metadata": {},
   "source": [
    "Q1. What is the difference between a function and a method in Python?"
   ]
  },
  {
   "cell_type": "markdown",
   "id": "83f9fb23-90a4-463a-b94a-8c3c89a66562",
   "metadata": {},
   "source": [
    "Function: A function is a standalone block of code that performs a specific task and can be called independently. It is defined using the def keyword outside of any class."
   ]
  },
  {
   "cell_type": "markdown",
   "id": "b7fd1fbb-3549-439c-8583-ddf9bc322f84",
   "metadata": {},
   "source": [
    "Method: A method is a function that is associated with an object. Methods are defined within a class and are intended to operate on instances of that class. They have access to the data contained within the class, via the self parameter."
   ]
  },
  {
   "cell_type": "markdown",
   "id": "e75a537f-b3e8-43c6-9c1a-c8dc3ac797c2",
   "metadata": {},
   "source": [
    "Q2. Explain the concept of function arguments and parameters in Python."
   ]
  },
  {
   "cell_type": "markdown",
   "id": "5b9d3cb3-5884-4abd-92d0-1aea1269490d",
   "metadata": {},
   "source": [
    "Funaction argument are the values  that you provide to a funaction when you call  it . these arguments can be use by the funaction to perform specific tasks."
   ]
  },
  {
   "cell_type": "markdown",
   "id": "dd3ceafe-4868-4637-9746-9d65203e2858",
   "metadata": {},
   "source": [
    "Parameters: These are the variables listed inside the parentheses in the function definition. They act as placeholders for the values that will be passed to the function"
   ]
  },
  {
   "cell_type": "markdown",
   "id": "c9ac6fdb-ade7-4d1e-bc9c-785ff592d6c9",
   "metadata": {},
   "source": [
    "Q3. What are the different ways to define and call a function in Python?"
   ]
  },
  {
   "cell_type": "markdown",
   "id": "bda265e8-a9e7-4617-8047-811201cfffa3",
   "metadata": {},
   "source": [
    "functions are defined using the def keyword and can be called in various ways depending on how they are structured and the type of arguments they accept.\n",
    "\n",
    "Different ways to define and call functions in Python"
   ]
  },
  {
   "cell_type": "code",
   "execution_count": 3,
   "id": "8537456f-03ad-4019-a732-d91f68dc6ac6",
   "metadata": {},
   "outputs": [],
   "source": [
    "def greet():\n",
    "    print(\"Hello, World!\")"
   ]
  },
  {
   "cell_type": "code",
   "execution_count": 4,
   "id": "edf95ae7-bb8b-4f74-8cb4-0231d705422f",
   "metadata": {},
   "outputs": [],
   "source": [
    "def greet(name):\n",
    "    print(f\"Hello, {name}!\")"
   ]
  },
  {
   "cell_type": "code",
   "execution_count": 5,
   "id": "1d3b8c20-ea3b-4f86-9d8a-915b088a0148",
   "metadata": {},
   "outputs": [],
   "source": [
    "def greet(name, message=\"Hello\"):\n",
    "    print(f\"{message}, {name}!\")"
   ]
  },
  {
   "cell_type": "markdown",
   "id": "d96376a4-5af8-44ff-89bd-35d90cfb4a11",
   "metadata": {},
   "source": [
    "Q4. What is the purpose of the `return` statement in a Python function?"
   ]
  },
  {
   "cell_type": "markdown",
   "id": "70c3ff54-53be-448c-b2a0-51aa88d70aa0",
   "metadata": {},
   "source": [
    " The primary purpose of the return statement is to exit a function and send a value back to the caller.\n",
    " This value can be of any data type, including numbers, strings, lists, dictionaries, objects, or even another function."
   ]
  },
  {
   "cell_type": "markdown",
   "id": "eb66086a-c7cb-4fbf-b5cc-244d01cc3522",
   "metadata": {},
   "source": [
    "Q5. What are iterators in Python and how do they differ from iterables?"
   ]
  },
  {
   "cell_type": "markdown",
   "id": "5f6148d1-ab8f-4dae-98b5-fbbe76923613",
   "metadata": {},
   "source": [
    "An iterator is an object that represents a stream of data. It is the object returned by calling the __iter__() method on an iterable."
   ]
  },
  {
   "cell_type": "markdown",
   "id": "ee0f635d-c65e-46c4-8ecc-24d366a0a19f",
   "metadata": {},
   "source": [
    "Q6. Explain the concept of generators in Python and how they are defined."
   ]
  },
  {
   "cell_type": "raw",
   "id": "5d1a7434-3a2e-49df-8ef4-67305786536c",
   "metadata": {},
   "source": [
    "Generators in Python are a special type of iterator that allows you to iterate over a sequence of values without the need to store the entire sequence in memory. They are particularly useful for working with large datasets or streams of data, as they generate each value on-the-fly and yield it one at a time. This makes them memory-efficient and faster for certain operations"
   ]
  },
  {
   "cell_type": "markdown",
   "id": "6b301d37-22ae-4ae6-a967-9ddcd03fb264",
   "metadata": {},
   "source": [
    "Q7. What are the advantages of using generators over regular functions?"
   ]
  },
  {
   "cell_type": "markdown",
   "id": "6396f67e-59b7-4aae-9339-144698d10c37",
   "metadata": {},
   "source": [
    "Generators in Python offer several advantages over regular functions, particularly when it comes to handling large datasets and improving memory efficiency"
   ]
  },
  {
   "cell_type": "markdown",
   "id": "c7203e3d-3b19-4298-b134-303ac00ceb2e",
   "metadata": {},
   "source": [
    "Memory Efficiency:\n",
    "\n",
    "Lazy Evaluation: \n",
    "Generators produce items one at a time and only when requested, rather than computing and storing all values at once. This is particularly useful for large datasets where storing all values in memory would be inefficient.\n",
    "\n",
    "Reduced Memory Usage:\n",
    "Since generators yield items one by one, they require less memory compared to functions that return lists or other data structures that store all items at once"
   ]
  },
  {
   "cell_type": "markdown",
   "id": "8110012a-9548-4626-ace7-e9e15114624b",
   "metadata": {},
   "source": [
    "Q8. What is a lambda function in Python and when is it typically used?"
   ]
  },
  {
   "cell_type": "markdown",
   "id": "c296adb9-9a60-42bc-81f9-fba4eccd7ffb",
   "metadata": {},
   "source": [
    "A lambda function is a small, anonymous function that is defined using the lambda keyword. Unlike regular functions defined with the def keyword, lambda functions can have any number of input parameters but only one expression. The result of that expression is automatically returned."
   ]
  },
  {
   "cell_type": "markdown",
   "id": "64ce3487-a218-4479-9e02-e90172a64f6b",
   "metadata": {},
   "source": [
    "uses of lambda funaction "
   ]
  },
  {
   "cell_type": "markdown",
   "id": "65d2c303-f5f4-461d-b74d-15e064c8d96e",
   "metadata": {},
   "source": [
    "1.sorting and filtering\n",
    "2.GUI programing\n",
    "3.Funactional programing"
   ]
  },
  {
   "cell_type": "markdown",
   "id": "bed1cd38-1fbe-4bd8-9da8-f40e58896f83",
   "metadata": {},
   "source": [
    "Q9. Explain the purpose and usage of the `map()` function in Python."
   ]
  },
  {
   "cell_type": "markdown",
   "id": "50e4fa24-4784-4432-8261-cf40cab15806",
   "metadata": {},
   "source": [
    "The map() function in Python is a built-in function that is used to apply a given function to all items in an iterable (like a list, tuple, or string) and return a map object (which is an iterator) containing the results. It is commonly used for transforming data efficiently and concisely."
   ]
  },
  {
   "cell_type": "code",
   "execution_count": 2,
   "id": "72d31c66-b9bf-4deb-af3c-503d5fc6b8dd",
   "metadata": {},
   "outputs": [
    {
     "name": "stdout",
     "output_type": "stream",
     "text": [
      "[2, 4, 6, 8, 10]\n"
     ]
    }
   ],
   "source": [
    "# Function to double a number\n",
    "def double(x):\n",
    "    return x * 2\n",
    "\n",
    "numbers = [1, 2, 3, 4, 5]\n",
    "# Apply 'double' function to each item in 'numbers'\n",
    "doubled_numbers = map(double, numbers)\n",
    "\n",
    "# Convert the map object to a list to see the results\n",
    "print(list(doubled_numbers))  # Outputs: [2, 4, 6, 8, 10]"
   ]
  },
  {
   "cell_type": "markdown",
   "id": "0b62915f-cebd-4f20-8126-0edd3ed30c40",
   "metadata": {},
   "source": [
    "Q10.. What is the difference between `map()`, `reduce()`, and `filter()` functions in Python?"
   ]
  },
  {
   "cell_type": "markdown",
   "id": "da4f72a8-9d10-4acf-8bea-381ba127fa8f",
   "metadata": {},
   "source": [
    "Map()"
   ]
  },
  {
   "cell_type": "markdown",
   "id": "a0fd7c2d-097d-47f6-8639-aad9a1a19d56",
   "metadata": {},
   "source": [
    "The map() function applies a specified function to each item in an iterable and returns an iterator (map object) containing the results"
   ]
  },
  {
   "cell_type": "markdown",
   "id": "eda6ffe2-2923-4054-8868-47ba28d9e882",
   "metadata": {},
   "source": [
    "Reduce()"
   ]
  },
  {
   "cell_type": "markdown",
   "id": "554a2d57-24ae-4c22-9dd1-03381287f95b",
   "metadata": {},
   "source": [
    "The reduce() function from the functools module applies a binary function cumulatively to the items of an iterable, from left to right, so as to reduce the iterable to a single cumulative value"
   ]
  },
  {
   "cell_type": "markdown",
   "id": "ba5c38bf-20b2-4adb-83ac-7e4064ea2b24",
   "metadata": {},
   "source": [
    "Filter()"
   ]
  },
  {
   "cell_type": "markdown",
   "id": "35a9d55d-ad4a-40a9-9eeb-465104771a06",
   "metadata": {},
   "source": [
    "The filter() function applies a specified function (that returns a Boolean) to each item in an iterable and returns an iterator containing only the items for which the function returns True."
   ]
  },
  {
   "cell_type": "raw",
   "id": "477d56a6-cb6c-4c17-9188-e0510ba42f8a",
   "metadata": {},
   "source": [
    "Practicle questions "
   ]
  },
  {
   "cell_type": "markdown",
   "id": "376b77ba-4214-42bb-9f88-c19c8798908b",
   "metadata": {},
   "source": [
    "Q1. Write a Python function that takes a list of numbers as input and returns the sum of all even numbers in\n",
    "the list."
   ]
  },
  {
   "cell_type": "code",
   "execution_count": 1,
   "id": "a2b7c8be-17ab-4e3f-bcf1-be2a334b37c3",
   "metadata": {},
   "outputs": [
    {
     "name": "stdout",
     "output_type": "stream",
     "text": [
      "12\n"
     ]
    }
   ],
   "source": [
    "def sum_of_even_numbers(numbers):\n",
    "    return sum(number for number in numbers if number % 2 == 0)\n",
    "\n",
    "# Example usage:\n",
    "numbers = [1, 2, 3, 4, 5, 6]\n",
    "even_sum = sum_of_even_numbers(numbers)\n",
    "print(even_sum) "
   ]
  },
  {
   "cell_type": "markdown",
   "id": "1803c9c9-dc00-4a90-ab27-4b0c4410d76c",
   "metadata": {},
   "source": [
    "Q2. Create a Python function that accepts a string and returns the reverse of that string."
   ]
  },
  {
   "cell_type": "code",
   "execution_count": 2,
   "id": "a434eeb3-7218-4311-a6b9-3b0835f19a00",
   "metadata": {},
   "outputs": [
    {
     "name": "stdout",
     "output_type": "stream",
     "text": [
      "!dlroW ,olleH\n"
     ]
    }
   ],
   "source": [
    "def reverse_string(s):\n",
    "    return s[::-1]\n",
    "\n",
    "# Example usage:\n",
    "original_string = \"Hello, World!\"\n",
    "reversed_string = reverse_string(original_string)\n",
    "print(reversed_string) "
   ]
  },
  {
   "cell_type": "markdown",
   "id": "31e46e2e-816c-48c8-a22d-4f5f9e0ca701",
   "metadata": {},
   "source": [
    "Q3. Implement a Python function that takes a list of integers and returns a new list containing the squares of\n",
    "each number."
   ]
  },
  {
   "cell_type": "code",
   "execution_count": 3,
   "id": "2370f626-7104-40a8-931c-59c33664a453",
   "metadata": {},
   "outputs": [
    {
     "name": "stdout",
     "output_type": "stream",
     "text": [
      "[1, 4, 9, 16, 25]\n"
     ]
    }
   ],
   "source": [
    "def square_numbers(numbers):\n",
    "    return [number ** 2 for number in numbers]\n",
    "\n",
    "numbers = [1, 2, 3, 4, 5]\n",
    "squared_numbers = square_numbers(numbers)\n",
    "print(squared_numbers)"
   ]
  },
  {
   "cell_type": "markdown",
   "id": "c5a82784-d43d-4261-9366-15f75698aa61",
   "metadata": {},
   "source": [
    "Q4.Write a Python function that checks if a given number is prime or not from 1 to 200."
   ]
  },
  {
   "cell_type": "code",
   "execution_count": 4,
   "id": "cd05f3de-075c-4750-8039-f5319f249bf7",
   "metadata": {},
   "outputs": [
    {
     "name": "stdout",
     "output_type": "stream",
     "text": [
      "[2, 3, 5, 7, 11, 13, 17, 19, 23, 29, 31, 37, 41, 43, 47, 53, 59, 61, 67, 71, 73, 79, 83, 89, 97, 101, 103, 107, 109, 113, 127, 131, 137, 139, 149, 151, 157, 163, 167, 173, 179, 181, 191, 193, 197, 199]\n"
     ]
    }
   ],
   "source": [
    "def is_prime(number):\n",
    "    \"\"\"Check if a number is prime.\"\"\"\n",
    "    if number <= 1:\n",
    "        return False\n",
    "    if number <= 3:\n",
    "        return True\n",
    "    if number % 2 == 0 or number % 3 == 0:\n",
    "        return False\n",
    "    \n",
    "    i = 5\n",
    "    while i * i <= number:\n",
    "        if number % i == 0 or number % (i + 2) == 0:\n",
    "            return False\n",
    "        i += 6\n",
    "    \n",
    "    return True\n",
    "\n",
    "# Test the function for numbers from 1 to 200\n",
    "primes = [num for num in range(1, 201) if is_prime(num)]\n",
    "print(primes)"
   ]
  },
  {
   "cell_type": "markdown",
   "id": "93c265eb-9ee0-4a12-bd17-5e13f220dc8c",
   "metadata": {},
   "source": [
    "Q5. Create an iterator class in Python that generates the Fibonacci sequence up to a specified number of\n",
    "terms."
   ]
  },
  {
   "cell_type": "code",
   "execution_count": 5,
   "id": "ca12d581-8727-4009-953f-4caa15e397cb",
   "metadata": {},
   "outputs": [
    {
     "name": "stdout",
     "output_type": "stream",
     "text": [
      "0\n",
      "1\n",
      "1\n",
      "2\n",
      "3\n",
      "5\n",
      "8\n",
      "13\n",
      "21\n",
      "34\n"
     ]
    }
   ],
   "source": [
    "class FibonacciIterator:\n",
    "    def __init__(self, n_terms):\n",
    "        self.n_terms = n_terms  # Total number of terms in the sequence\n",
    "        self.current_term = 0   # Current term index\n",
    "        self.a, self.b = 0, 1   # Initial two numbers in the Fibonacci sequence\n",
    "\n",
    "    def __iter__(self):\n",
    "        return self\n",
    "\n",
    "    def __next__(self):\n",
    "        if self.current_term >= self.n_terms:\n",
    "            raise StopIteration  # End iteration if the specified number of terms is reached\n",
    "        if self.current_term == 0:\n",
    "            self.current_term += 1\n",
    "            return self.a\n",
    "        elif self.current_term == 1:\n",
    "            self.current_term += 1\n",
    "            return self.b\n",
    "        else:\n",
    "            self.a, self.b = self.b, self.a + self.b\n",
    "            self.current_term += 1\n",
    "            return self.b\n",
    "\n",
    "# Example usage:\n",
    "n = 10  # Number of terms to generate\n",
    "fib_iterator = FibonacciIterator(n)\n",
    "\n",
    "for number in fib_iterator:\n",
    "    print(number)"
   ]
  },
  {
   "cell_type": "markdown",
   "id": "fade42cc-05f4-44fd-8dac-bf79c6285caf",
   "metadata": {},
   "source": [
    "Q6. Write a generator function in Python that yields the powers of 2 up to a given exponent."
   ]
  },
  {
   "cell_type": "code",
   "execution_count": 6,
   "id": "35658ac7-8b4b-412b-87c4-137f446e8d01",
   "metadata": {},
   "outputs": [
    {
     "name": "stdout",
     "output_type": "stream",
     "text": [
      "1\n",
      "2\n",
      "4\n",
      "8\n",
      "16\n",
      "32\n"
     ]
    }
   ],
   "source": [
    "def powers_of_two(max_exponent):\n",
    "    \"\"\"Generate powers of 2 up to the given max_exponent.\"\"\"\n",
    "    for exponent in range(max_exponent + 1):\n",
    "        yield 2 ** exponent\n",
    "\n",
    "# Example usage:\n",
    "max_exp = 5  # Specify the maximum exponent\n",
    "for power in powers_of_two(max_exp):\n",
    "    print(power)"
   ]
  },
  {
   "cell_type": "markdown",
   "id": "f71725b6-3f3d-49aa-9bf9-35ab7bee76d8",
   "metadata": {},
   "source": [
    "Q7. Implement a generator function that reads a file line by line and yields each line as a string."
   ]
  },
  {
   "cell_type": "code",
   "execution_count": 7,
   "id": "46b930a0-a289-47dc-a3bb-5203f7b0c1c6",
   "metadata": {},
   "outputs": [
    {
     "name": "stdout",
     "output_type": "stream",
     "text": [
      "Error: The file 'example.txt' was not found.\n"
     ]
    }
   ],
   "source": [
    "def read_file_line_by_line(file_path):\n",
    "    \"\"\"Generate lines from a file one by one.\"\"\"\n",
    "    try:\n",
    "        with open(file_path, 'r') as file:\n",
    "            for line in file:\n",
    "                yield line.rstrip('\\n')\n",
    "    except FileNotFoundError:\n",
    "        print(f\"Error: The file '{file_path}' was not found.\")\n",
    "    except IOError as e:\n",
    "        print(f\"Error: An I/O error occurred: {e}\")\n",
    "\n",
    "# Example usage:\n",
    "# Assume 'example.txt' is a file with some text content.\n",
    "file_path = 'example.txt'\n",
    "for line in read_file_line_by_line(file_path):\n",
    "    print(line)"
   ]
  },
  {
   "cell_type": "markdown",
   "id": "ee0b12dd-bc42-4da4-a887-c7066f8110fc",
   "metadata": {},
   "source": [
    "Q8.. Use a lambda function in Python to sort a list of tuples based on the second element of each tuple."
   ]
  },
  {
   "cell_type": "code",
   "execution_count": 8,
   "id": "cff97b80-8bcf-44d5-9e05-69f95e884968",
   "metadata": {},
   "outputs": [
    {
     "name": "stdout",
     "output_type": "stream",
     "text": [
      "Sorted list using sort method: [(4, 1), (3, 2), (1, 3), (2, 5)]\n"
     ]
    }
   ],
   "source": [
    "tuples_list = [(1, 3), (4, 1), (2, 5), (3, 2)]\n",
    "\n",
    "# Sort the list in place using sort and a lambda function\n",
    "tuples_list.sort(key=lambda x: x[1])\n",
    "\n",
    "# Print the sorted list\n",
    "print(\"Sorted list using sort method:\", tuples_list)"
   ]
  },
  {
   "cell_type": "markdown",
   "id": "1054cf65-cf85-4463-979e-73030bf48232",
   "metadata": {},
   "source": [
    "Q9. Write a Python program that uses `map()` to convert a list of temperatures from Celsius to Fahrenheit."
   ]
  },
  {
   "cell_type": "code",
   "execution_count": 9,
   "id": "534c8ba7-6933-41cb-b0c5-60e81dd6aaaf",
   "metadata": {},
   "outputs": [
    {
     "name": "stdout",
     "output_type": "stream",
     "text": [
      "Celsius temperatures: [0, 20, 37, 100]\n",
      "Fahrenheit temperatures: [32.0, 68.0, 98.6, 212.0]\n"
     ]
    }
   ],
   "source": [
    "def celsius_to_fahrenheit(celsius):\n",
    "    \"\"\"Convert Celsius to Fahrenheit.\"\"\"\n",
    "    return (celsius * 9/5) + 32\n",
    "\n",
    "# List of temperatures in Celsius\n",
    "celsius_temperatures = [0, 20, 37, 100]\n",
    "\n",
    "# Convert to Fahrenheit using map\n",
    "fahrenheit_temperatures = list(map(celsius_to_fahrenheit, celsius_temperatures))\n",
    "\n",
    "# Print the converted temperatures\n",
    "print(\"Celsius temperatures:\", celsius_temperatures)\n",
    "print(\"Fahrenheit temperatures:\", fahrenheit_temperatures)"
   ]
  },
  {
   "cell_type": "markdown",
   "id": "97b26c2d-9234-4b9b-9d6e-26527c554504",
   "metadata": {},
   "source": [
    "Q10. Create a Python program that uses `filter()` to remove all the vowels from a given string."
   ]
  },
  {
   "cell_type": "code",
   "execution_count": 11,
   "id": "915ea722-11ac-4e31-86a5-c2ee6288694e",
   "metadata": {},
   "outputs": [
    {
     "name": "stdout",
     "output_type": "stream",
     "text": [
      "Original string: Hello, World!\n",
      "String without vowels: Hll, Wrld!\n"
     ]
    }
   ],
   "source": [
    "def remove_vowels(input_string):\n",
    "    \"\"\"Remove vowels from the given string using filter.\"\"\"\n",
    "    vowels = \"aeiouAEIOU\"  # Define vowels in both lowercase and uppercase\n",
    "\n",
    "    # Define a lambda function to check if a character is not a vowel\n",
    "    is_not_vowel = lambda char: char not in vowels\n",
    "\n",
    "    # Use filter to apply the lambda function and remove vowels\n",
    "    filtered_chars = filter(is_not_vowel, input_string)\n",
    "\n",
    "    # Join the filtered characters back into a string\n",
    "    result_string = ''.join(filtered_chars)\n",
    "\n",
    "    return result_string\n",
    "\n",
    "# Example usage\n",
    "input_string = \"Hello, World!\"\n",
    "result = remove_vowels(input_string)\n",
    "\n",
    "print(\"Original string:\", input_string)\n",
    "print(\"String without vowels:\", result)"
   ]
  },
  {
   "cell_type": "code",
   "execution_count": null,
   "id": "da951e17-d7a5-437e-8408-17c39a9f9c79",
   "metadata": {},
   "outputs": [],
   "source": []
  }
 ],
 "metadata": {
  "kernelspec": {
   "display_name": "Python 3 (ipykernel)",
   "language": "python",
   "name": "python3"
  },
  "language_info": {
   "codemirror_mode": {
    "name": "ipython",
    "version": 3
   },
   "file_extension": ".py",
   "mimetype": "text/x-python",
   "name": "python",
   "nbconvert_exporter": "python",
   "pygments_lexer": "ipython3",
   "version": "3.10.8"
  }
 },
 "nbformat": 4,
 "nbformat_minor": 5
}
